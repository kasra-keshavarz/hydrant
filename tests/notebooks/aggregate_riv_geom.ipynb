{
 "cells": [
  {
   "cell_type": "code",
   "execution_count": 1,
   "id": "fc42a7e7-31f2-49b2-b5d4-63b42f392c50",
   "metadata": {},
   "outputs": [],
   "source": [
    "import geopandas as gpd\n",
    "import pandas as pd\n",
    "import numpy as np\n",
    "import networkx as nx\n",
    "\n",
    "from shapely.geometry import (\n",
    "    LineString,\n",
    "    Point,\n",
    ")\n",
    "from shapely import (\n",
    "    union_all,\n",
    "    ops,\n",
    ")\n",
    "\n",
    "import os\n",
    "import warnings\n",
    "import itertools\n",
    "\n",
    "from typing import (\n",
    "    List,\n",
    "    Dict,\n",
    "    Union,\n",
    "    Iterable,\n",
    "    Tuple,\n",
    "    Any,\n",
    ")\n",
    "\n",
    "from collections.abc import (\n",
    "    Collection,\n",
    ")"
   ]
  },
  {
   "cell_type": "code",
   "execution_count": 2,
   "id": "accd2705-be3a-4fd9-9983-c178cc30af70",
   "metadata": {},
   "outputs": [],
   "source": [
    "# MERIT-Basins path\n",
    "mb_path = '/project/rrg-mclark/data/geospatial-data/MERIT-Basins/MERIT_Hydro_v07_Basins_v01_bugfix1/'\n",
    "\n",
    "# cat layer\n",
    "cat = gpd.read_file(os.path.join(mb_path, 'pfaf_level_02', 'cat_pfaf_72_MERIT_Hydro_v07_Basins_v01_bugfix1.shp'))\n",
    "\n",
    "# riv layer\n",
    "riv = gpd.read_file(os.path.join(mb_path, 'pfaf_level_02', 'riv_pfaf_72_MERIT_Hydro_v07_Basins_v01_bugfix1.shp'))\n",
    "\n",
    "# cst layer\n",
    "cst = gpd.read_file(os.path.join(mb_path, 'coastal_hillslopes', 'hillslope_72_clean.shp'))"
   ]
  },
  {
   "cell_type": "code",
   "execution_count": 3,
   "id": "fb0a3e7c-b81f-4901-9aad-db9a70b17194",
   "metadata": {},
   "outputs": [],
   "source": [
    "def aggregate_seg(\n",
    "    rg: nx.DiGraph,\n",
    "    node: Union[str, int],\n",
    "    columns: Dict[str, str],\n",
    "    criteria: str,\n",
    "    *args,\n",
    "    **kwargs,\n",
    ") -> None:\n",
    "    ...\n",
    "    \n",
    "columns = {\n",
    "    'length': 'lengthkm',\n",
    "    'area': 'unitarea'\n",
    "}\n",
    "\n",
    "criteria = 'length'"
   ]
  },
  {
   "cell_type": "code",
   "execution_count": 4,
   "id": "0878c1f3-ed72-4511-8bd4-3149e3586c41",
   "metadata": {},
   "outputs": [],
   "source": [
    "rg = nx.from_pandas_edgelist(df=riv,\n",
    "                             source='COMID',\n",
    "                             target='NextDownID',\n",
    "                             edge_attr=riv.columns.to_list(),\n",
    "                             create_using=nx.DiGraph)"
   ]
  },
  {
   "cell_type": "markdown",
   "id": "af498085-a606-4cad-b48b-784ab0c7c09d",
   "metadata": {},
   "source": [
    "____"
   ]
  },
  {
   "cell_type": "markdown",
   "id": "74ee0f42-8864-4b2a-8176-5b2e5b4d3158",
   "metadata": {},
   "source": [
    "Try to write a function that aggregates the geometry of two river segments (by doing so, you are assuming the candidate for aggregation is already known):"
   ]
  },
  {
   "cell_type": "code",
   "execution_count": 5,
   "id": "c0c0ab61-e18a-4346-b683-fe6cebbba829",
   "metadata": {},
   "outputs": [],
   "source": [
    "segment = riv.loc[riv.COMID.isin([72051873])].geometry.iloc[0]"
   ]
  },
  {
   "cell_type": "code",
   "execution_count": 6,
   "id": "8d7ff276-4b1b-45e5-b153-eb8a3ac268c7",
   "metadata": {},
   "outputs": [],
   "source": [
    "predecessor = riv.loc[riv.COMID.isin([72053625])].geometry.iloc[0]"
   ]
  },
  {
   "cell_type": "code",
   "execution_count": 7,
   "id": "3f2c2c6f-b6e6-4293-b2d4-5f11d86acdc6",
   "metadata": {
    "tags": []
   },
   "outputs": [],
   "source": [
    "def _intersection_based_order(\n",
    "    l: List,\n",
    "    element: Any,\n",
    "    placement: str,\n",
    ") -> List:\n",
    "    \"\"\"\n",
    "    Returns a list as-is or reversed, depending on `placement` criterion.\n",
    "    \n",
    "    Parameters\n",
    "    ----------\n",
    "    l: List\n",
    "        list of items\n",
    "    element: Any, dependant on `l`\n",
    "        element present in the list\n",
    "    placement: str, 'first' or 'last'\n",
    "        placement of the `element` in `l`\n",
    "        \n",
    "    Returns\n",
    "    -------\n",
    "    List\n",
    "        returning `l` as-is or reversed as a List object\n",
    "        \n",
    "    Notes\n",
    "    -----\n",
    "    The function needs to optimized for future versions\n",
    "    \"\"\"\n",
    "    # check if the element is in the list\n",
    "    if element not in l:\n",
    "        raise ValueError(f\"{element} is not in `l`\")\n",
    "    \n",
    "    # check position of `element` in `l`\n",
    "    if placement == 'first':\n",
    "        # if the `placement` is 'first', and the element is at the first\n",
    "        # position, return the list\n",
    "        if l.index(element) == 0:\n",
    "            return l.copy()\n",
    "        else:\n",
    "            return l.copy()[::-1]\n",
    "    elif placement == 'last':\n",
    "        # If the `placement` is 'last', and the element is in the last\n",
    "        # position, return the list\n",
    "        if l.index(element) == len(l) - 1:\n",
    "            return l.copy()\n",
    "        else:\n",
    "            return l.copy()[::-1]\n",
    "    else:\n",
    "        raise ValueError(f\"Cannot interpret LineString {predecessor}\")\n",
    "        \n",
    "def _intersect_linestring_coords(\n",
    "    *args: LineString,\n",
    ") -> List[Tuple[float, float]]:\n",
    "    \"\"\"Return a list of coordinates (pairs of floats in tuples) of\n",
    "    intersected points of various LineStrings\n",
    "    \n",
    "    Parameters\n",
    "    ----------\n",
    "    args: List-like of shapely.geometry.LineString objects\n",
    "        LineString object for which the intersection coordinate\n",
    "        point(s) are desired\n",
    "        \n",
    "    Return\n",
    "    List[Tuple[float, float]]\n",
    "        A list of coordinate values (pairs of floats in tuples)\n",
    "    \"\"\"\n",
    "    # check dtype of args\n",
    "    for item in args:\n",
    "        if not isinstance(item, LineString):\n",
    "            raise TypeError(\"all arguments must be of type \"\n",
    "                            \"shapely.geometry.LineString\")\n",
    "    # create a list of all input LineString object through *args\n",
    "    pairs = list(itertools.combinations(args, 2))\n",
    "    \n",
    "    # intersection list\n",
    "    intx_list = []\n",
    "    \n",
    "    # go over the pairs and calculate the intersections\n",
    "    for item in pairs:\n",
    "        intx = set(item[0].coords).intersection(set(item[1].coords))\n",
    "        intx_list.append(list(intx)[0])\n",
    "        \n",
    "    return intx_list\n",
    "\n",
    "def _aggregate_linstring_geoms(\n",
    "    successor: LineString,\n",
    "    predecessor: LineString,\n",
    ") -> LineString:\n",
    "    \"\"\"Aggregated (Multi-)LineString geometries for `successor` and\n",
    "    `predecessor` objects\n",
    "    \n",
    "    Parameters\n",
    "    ----------\n",
    "    successor: shapely.geometry.LineString\n",
    "        sucessor LineString to be aggregated\n",
    "    predecessor: shapely.geometry.LineString\n",
    "        predecessor LineString to be aggregated with `successor`\n",
    "    \n",
    "    Returns\n",
    "    -------\n",
    "    shapely.LineString:\n",
    "        aggregated LineString geometry\n",
    "    \"\"\"\n",
    "    # check if successor and predecessor are shapely.geometry.LineString types\n",
    "    if not isinstance(successor, LineString):\n",
    "        raise TypeError(\"`successor` must be of type shapely.geometry.LineString\")\n",
    "    if not isinstance(predecessor, LineString):\n",
    "        raise TypeError(\"`predecessor` must be of type shapely.geometry.LineString\")\n",
    "    \n",
    "    # find the intersection point of both objects\n",
    "    intx = _intersect_linestring_coords(successor, predecessor)\n",
    "    # since a list is returned, extract the first element\n",
    "    intx_point = intx[0]\n",
    "    \n",
    "    # re-ordering coordinate points of LineString objects\n",
    "    successor_ordered = _intersection_based_order(\n",
    "        list(successor.coords),\n",
    "        intx_point,\n",
    "        'first')\n",
    "    predecessor_ordered = _intersection_based_order(\n",
    "        list(predecessor.coords),\n",
    "        intx_point,\n",
    "        'last')\n",
    "    \n",
    "    # merging LineString objects\n",
    "    aggregated_coords = predecessor_ordered + successor_ordered[1:]\n",
    "    \n",
    "    # create a LineString out of the new `aggregated_coords` object\n",
    "    merged_ls = LineString(aggregated_coords)\n",
    "    \n",
    "    return merged_ls"
   ]
  },
  {
   "cell_type": "code",
   "execution_count": 8,
   "id": "5bf5294b-a77c-43a7-9eca-7f173d710517",
   "metadata": {},
   "outputs": [],
   "source": [
    "new_segment = _aggregate_linstring_geoms(\n",
    "    successor=segment,\n",
    "    predecessor=predecessor\n",
    ")"
   ]
  },
  {
   "cell_type": "code",
   "execution_count": 9,
   "id": "82c4f5ab-3e15-430f-a272-def2f9bef0c8",
   "metadata": {},
   "outputs": [
    {
     "name": "stdout",
     "output_type": "stream",
     "text": [
      "LINESTRING (-81.94500000000001 44.27750000000002, -81.94416666666667 44.27833333333335, -81.94333333333334 44.27916666666668, -81.94250000000001 44.280000000000015, -81.94250000000001 44.28083333333335, -81.94166666666668 44.28166666666668, -81.94083333333334 44.28250000000001, -81.94000000000001 44.283333333333346, -81.93916666666668 44.28416666666668, -81.93916666666668 44.28500000000001, -81.93833333333335 44.28583333333335, -81.93750000000001 44.28666666666668, -81.93666666666668 44.287500000000016)\n"
     ]
    }
   ],
   "source": [
    "print(new_segment)"
   ]
  },
  {
   "cell_type": "code",
   "execution_count": 10,
   "id": "e93004ae-8da4-4eab-b03c-1e2a783f05bc",
   "metadata": {},
   "outputs": [
    {
     "data": {
      "text/plain": [
       "<Axes: >"
      ]
     },
     "execution_count": 10,
     "metadata": {},
     "output_type": "execute_result"
    },
    {
     "data": {
      "image/png": "[encoded data removed]",
      "text/plain": [
       "<Figure size 640x480 with 1 Axes>"
      ]
     },
     "metadata": {},
     "output_type": "display_data"
    }
   ],
   "source": [
    "ax = gpd.GeoDataFrame(geometry=[new_segment]).plot(zorder=1, linewidths=5)\n",
    "\n",
    "gpd.GeoDataFrame(geometry=[segment]).plot(zorder=2, color='purple', ax=ax)\n",
    "gpd.GeoDataFrame(geometry=[predecessor]).plot(zorder=2, color='yellow', ax=ax)"
   ]
  },
  {
   "cell_type": "markdown",
   "id": "2c975bfe-f8f0-4ad3-8b1a-2dbcab9a2664",
   "metadata": {},
   "source": [
    "____"
   ]
  },
  {
   "cell_type": "markdown",
   "id": "1732fef7-03cd-4d4d-baf9-3dc42adeaeef",
   "metadata": {},
   "source": [
    "As a substitute for all the codes above, one can use ``shapely.union_all(...)`` function:"
   ]
  },
  {
   "cell_type": "code",
   "execution_count": 11,
   "id": "84b5c5f5-0046-43f3-a9ac-b322c556cc26",
   "metadata": {},
   "outputs": [
    {
     "name": "stdout",
     "output_type": "stream",
     "text": [
      "MULTILINESTRING ((-81.93666666666668 44.287500000000016, -81.93750000000001 44.28666666666668), (-81.93750000000001 44.28666666666668, -81.93833333333335 44.28583333333335, -81.93916666666668 44.28500000000001, -81.93916666666668 44.28416666666668, -81.94000000000001 44.283333333333346, -81.94083333333334 44.28250000000001, -81.94166666666668 44.28166666666668, -81.94250000000001 44.28083333333335, -81.94250000000001 44.280000000000015, -81.94333333333334 44.27916666666668, -81.94416666666667 44.27833333333335, -81.94500000000001 44.27750000000002))\n",
      "LINESTRING (-81.93666666666668 44.287500000000016, -81.93750000000001 44.28666666666668, -81.93833333333335 44.28583333333335, -81.93916666666668 44.28500000000001, -81.93916666666668 44.28416666666668, -81.94000000000001 44.283333333333346, -81.94083333333334 44.28250000000001, -81.94166666666668 44.28166666666668, -81.94250000000001 44.28083333333335, -81.94250000000001 44.280000000000015, -81.94333333333334 44.27916666666668, -81.94416666666667 44.27833333333335, -81.94500000000001 44.27750000000002)\n"
     ]
    }
   ],
   "source": [
    "print(union_all([segment, predecessor]))\n",
    "print(ops.linemerge(union_all([segment, predecessor])))"
   ]
  },
  {
   "cell_type": "code",
   "execution_count": 12,
   "id": "57a735cb-efd4-4629-8559-08f61baba92b",
   "metadata": {},
   "outputs": [],
   "source": [
    "def _aggregate_linestring_geoms(\n",
    "    successor: LineString,\n",
    "    predecessor: LineString,\n",
    ") -> LineString:\n",
    "    \"\"\"Aggregated (Multi-)LineString geometries for `successor` and\n",
    "    `predecessor` objects\n",
    "    \n",
    "    Parameters\n",
    "    ----------\n",
    "    successor: shapely.geometry.LineString\n",
    "        sucessor LineString to be aggregated\n",
    "    predecessor: shapely.geometry.LineString\n",
    "        predecessor LineString to be aggregated with `successor`\n",
    "    \n",
    "    Returns\n",
    "    -------\n",
    "    shapely.LineString:\n",
    "        aggregated LineString geometry\n",
    "    \"\"\"\n",
    "    # check if successor and predecessor are shapely.geometry.LineString types\n",
    "    if not isinstance(successor, LineString):\n",
    "        raise TypeError(\"`successor` must be of type shapely.geometry.LineString\")\n",
    "    if not isinstance(predecessor, LineString):\n",
    "        raise TypeError(\"`predecessor` must be of type shapely.geometry.LineString\")\n",
    "        \n",
    "    return ops.linemerge(union_all([successor, predecessor]))"
   ]
  }
 ],
 "metadata": {
  "kernelspec": {
   "display_name": "scienv",
   "language": "python",
   "name": "scienv"
  },
  "language_info": {
   "codemirror_mode": {
    "name": "ipython",
    "version": 3
   },
   "file_extension": ".py",
   "mimetype": "text/x-python",
   "name": "python",
   "nbconvert_exporter": "python",
   "pygments_lexer": "ipython3",
   "version": "3.10.2"
  }
 },
 "nbformat": 4,
 "nbformat_minor": 5
}
