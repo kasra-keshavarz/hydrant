{
 "cells": [
  {
   "cell_type": "code",
   "execution_count": 1,
   "id": "e106ab24-fc9a-410b-9f4f-a2575b105352",
   "metadata": {},
   "outputs": [],
   "source": [
    "import sqlite3\n",
    "import pandas as pd"
   ]
  },
  {
   "cell_type": "code",
   "execution_count": 2,
   "id": "f686ac74-e1af-4b57-943c-16fe255b71f1",
   "metadata": {},
   "outputs": [],
   "source": [
    "def hydat_gauge_info(\n",
    "    connection: str, # sqlite3 file location\n",
    "    station: str, # gauge code string\n",
    ")-> pd.DataFrame:\n",
    "    \n",
    "    connection = sqlite3.connect(connection)\n",
    "\n",
    "    # stations information\n",
    "    df_info = pd.read_sql_query(f\"SELECT * FROM STATIONS WHERE STATION_NUMBER LIKE '%{station}%'\", connection)\n",
    "    \n",
    "    return df_info"
   ]
  },
  {
   "cell_type": "code",
   "execution_count": 3,
   "id": "c0185af7-71d6-41c8-b9b1-133296c05168",
   "metadata": {},
   "outputs": [
    {
     "data": {
      "text/html": [
       "<div>\n",
       "<style scoped>\n",
       "    .dataframe tbody tr th:only-of-type {\n",
       "        vertical-align: middle;\n",
       "    }\n",
       "\n",
       "    .dataframe tbody tr th {\n",
       "        vertical-align: top;\n",
       "    }\n",
       "\n",
       "    .dataframe thead th {\n",
       "        text-align: right;\n",
       "    }\n",
       "</style>\n",
       "<table border=\"1\" class=\"dataframe\">\n",
       "  <thead>\n",
       "    <tr style=\"text-align: right;\">\n",
       "      <th></th>\n",
       "      <th>STATION_NUMBER</th>\n",
       "      <th>STATION_NAME</th>\n",
       "      <th>PROV_TERR_STATE_LOC</th>\n",
       "      <th>REGIONAL_OFFICE_ID</th>\n",
       "      <th>HYD_STATUS</th>\n",
       "      <th>SED_STATUS</th>\n",
       "      <th>LATITUDE</th>\n",
       "      <th>LONGITUDE</th>\n",
       "      <th>DRAINAGE_AREA_GROSS</th>\n",
       "      <th>DRAINAGE_AREA_EFFECT</th>\n",
       "      <th>RHBN</th>\n",
       "      <th>REAL_TIME</th>\n",
       "      <th>CONTRIBUTOR_ID</th>\n",
       "      <th>OPERATOR_ID</th>\n",
       "      <th>DATUM_ID</th>\n",
       "    </tr>\n",
       "  </thead>\n",
       "  <tbody>\n",
       "    <tr>\n",
       "      <th>0</th>\n",
       "      <td>01AA002</td>\n",
       "      <td>DAAQUAM (RIVIERE) EN AVAL DE LA RIVIERE SHIDGEL</td>\n",
       "      <td>QC</td>\n",
       "      <td>6</td>\n",
       "      <td>D</td>\n",
       "      <td>None</td>\n",
       "      <td>46.557499</td>\n",
       "      <td>-70.081108</td>\n",
       "      <td>598.0</td>\n",
       "      <td>None</td>\n",
       "      <td>0</td>\n",
       "      <td>0</td>\n",
       "      <td>740</td>\n",
       "      <td>740</td>\n",
       "      <td>405</td>\n",
       "    </tr>\n",
       "  </tbody>\n",
       "</table>\n",
       "</div>"
      ],
      "text/plain": [
       "  STATION_NUMBER                                     STATION_NAME   \n",
       "0        01AA002  DAAQUAM (RIVIERE) EN AVAL DE LA RIVIERE SHIDGEL  \\\n",
       "\n",
       "  PROV_TERR_STATE_LOC REGIONAL_OFFICE_ID HYD_STATUS SED_STATUS   LATITUDE   \n",
       "0                  QC                  6          D       None  46.557499  \\\n",
       "\n",
       "   LONGITUDE  DRAINAGE_AREA_GROSS DRAINAGE_AREA_EFFECT  RHBN  REAL_TIME   \n",
       "0 -70.081108                598.0                 None     0          0  \\\n",
       "\n",
       "   CONTRIBUTOR_ID  OPERATOR_ID  DATUM_ID  \n",
       "0             740          740       405  "
      ]
     },
     "execution_count": 3,
     "metadata": {},
     "output_type": "execute_result"
    }
   ],
   "source": [
    "hydat_gauge_info('/Users/kasrakeshavarz/Downloads/Hydat.sqlite3', '01AA002')"
   ]
  }
 ],
 "metadata": {
  "kernelspec": {
   "display_name": "fhimp_venv",
   "language": "python",
   "name": "fhimp_venv"
  },
  "language_info": {
   "codemirror_mode": {
    "name": "ipython",
    "version": 3
   },
   "file_extension": ".py",
   "mimetype": "text/x-python",
   "name": "python",
   "nbconvert_exporter": "python",
   "pygments_lexer": "ipython3",
   "version": "3.10.2"
  }
 },
 "nbformat": 4,
 "nbformat_minor": 5
}
