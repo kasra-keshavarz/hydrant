{
 "cells": [
  {
   "cell_type": "code",
   "execution_count": 1,
   "id": "153ef8ff-3db8-4fd0-922b-6125c862426a",
   "metadata": {
    "tags": []
   },
   "outputs": [],
   "source": [
    "import geopandas as gpd\n",
    "import pandas as pd\n",
    "import numpy as np\n",
    "import networkx as nx\n",
    "\n",
    "from shapely.geometry import LineString, Point\n",
    "\n",
    "import os\n",
    "import warnings\n",
    "\n",
    "from typing import (\n",
    "    List,\n",
    "    Dict,\n",
    "    Union,\n",
    "    Iterable\n",
    ")"
   ]
  },
  {
   "cell_type": "code",
   "execution_count": 2,
   "id": "36698100-e0f3-4d5d-b575-414ed25bc060",
   "metadata": {},
   "outputs": [],
   "source": [
    "# MERIT-Basins path\n",
    "mb_path = '/project/rrg-mclark/data/geospatial-data/MERIT-Basins/MERIT_Hydro_v07_Basins_v01_bugfix1/'\n",
    "\n",
    "# cat layer\n",
    "cat = gpd.read_file(os.path.join(mb_path, 'pfaf_level_02', 'cat_pfaf_71_MERIT_Hydro_v07_Basins_v01_bugfix1.shp'))\n",
    "\n",
    "# riv layer\n",
    "riv = gpd.read_file(os.path.join(mb_path, 'pfaf_level_02', 'riv_pfaf_71_MERIT_Hydro_v07_Basins_v01_bugfix1.shp'))\n",
    "\n",
    "# cst layer\n",
    "cst = gpd.read_file(os.path.join(mb_path, 'coastal_hillslopes', 'hillslope_71_clean.shp'))"
   ]
  },
  {
   "cell_type": "code",
   "execution_count": 3,
   "id": "c7bdbac9-e94c-4c34-b236-3c452c1ab8f5",
   "metadata": {},
   "outputs": [],
   "source": [
    "def aggregate_seg(\n",
    "    rg: nx.DiGraph,\n",
    "    node: Union[str, int],\n",
    "    columns: Dict[str, str],\n",
    "    criteria: str,\n",
    "    *args,\n",
    "    **kwargs,\n",
    ") -> None:\n",
    "    ...\n",
    "    \n",
    "columns = {\n",
    "    'length': 'lengthkm',\n",
    "    'area': 'unitarea'\n",
    "}\n",
    "\n",
    "criteria = 'length'"
   ]
  },
  {
   "cell_type": "code",
   "execution_count": 4,
   "id": "a19f210b-bf5a-4ac7-8f16-da36bde4236a",
   "metadata": {},
   "outputs": [],
   "source": [
    "rg = nx.from_pandas_edgelist(df=riv,\n",
    "                             source='COMID',\n",
    "                             target='NextDownID',\n",
    "                             edge_attr=riv.columns.to_list(),\n",
    "                             create_using=nx.DiGraph)"
   ]
  },
  {
   "cell_type": "code",
   "execution_count": 5,
   "id": "62fb3918-fe9e-4e3e-9e8e-abb60e089af2",
   "metadata": {},
   "outputs": [
    {
     "data": {
      "text/plain": [
       "<networkx.classes.digraph.DiGraph at 0x2abc54dc0f10>"
      ]
     },
     "execution_count": 5,
     "metadata": {},
     "output_type": "execute_result"
    }
   ],
   "source": [
    "rg"
   ]
  },
  {
   "cell_type": "markdown",
   "id": "b7afe5c6-6d0e-4e4d-aee7-6f47e5d856d6",
   "metadata": {},
   "source": [
    "Each node has similar name to its outgoing edge."
   ]
  },
  {
   "cell_type": "code",
   "execution_count": 6,
   "id": "ff81d38e-5dcb-4747-80c9-ad37a9e96858",
   "metadata": {},
   "outputs": [],
   "source": [
    "nodes = list(rg.nodes)"
   ]
  },
  {
   "cell_type": "code",
   "execution_count": 7,
   "id": "16a6f9a7-9359-4895-b2f6-be87e85255e2",
   "metadata": {},
   "outputs": [],
   "source": [
    "edges = list(rg.edges)"
   ]
  },
  {
   "cell_type": "markdown",
   "id": "e0d6cf20-8c58-4b9c-b196-f91618ed1b2b",
   "metadata": {},
   "source": [
    "____"
   ]
  },
  {
   "cell_type": "markdown",
   "id": "077d9d83-7961-438f-9201-90d68d31de0c",
   "metadata": {},
   "source": [
    "Notes:  \n",
    "1. Headwater river segments:  \n",
    " 1.1. They cannot be dissolved; nothing to dissolve with.  \n",
    "2. Confluences river segments:  \n",
    " 2.1. River segment is removed entirely,  \n",
    " 2.2. Corresponding sub-basin is dissolved with an upstream sub-basin (i.e., target sub-basin free choice?),  \n",
    "  &nbsp;&nbsp;2.2.1. If `area` is given, the areas are `sum`ed,  \n",
    " 2.3. target upstream river segments is adjusted,  \n",
    "  &nbsp;&nbsp;2.3.1. the last point of its `linestring` is changed to the last point of the disappearing river segment,  \n",
    "  &nbsp;&nbsp;2.3.2. The `length` of the upstream river segments are adjusted to consider the added segment,  \n",
    "  &nbsp;&nbsp;2.3.3. The `width` of the upstream river segments are adjusted to consider the added segment,  \n",
    "  &nbsp;&nbsp;&nbsp;&nbsp;&nbsp;&nbsp;2.3.3.1. The method could be `average`,  \n",
    "  &nbsp;&nbsp;2.3.4. The `slope` of the upstream river segments are adjusted to consider the added segment,  \n",
    "  &nbsp;&nbsp;&nbsp;&nbsp;2.3.4.1. The method could be `average` or ``,  \n",
    "3. "
   ]
  },
  {
   "cell_type": "markdown",
   "id": "e646bafb-3c7a-406a-9747-3c0ed8d67421",
   "metadata": {},
   "source": [
    "Checking river segment `71027927` for a test..."
   ]
  },
  {
   "cell_type": "code",
   "execution_count": 8,
   "id": "87c671a4-3b98-4afa-9cf9-4661fe1bf67b",
   "metadata": {},
   "outputs": [],
   "source": [
    "n = 71027927\n",
    "e = n"
   ]
  },
  {
   "cell_type": "code",
   "execution_count": 9,
   "id": "478ee185-8312-4c29-b03b-9729b1ad4f34",
   "metadata": {},
   "outputs": [],
   "source": [
    "def _is_headwater(\n",
    "    rg: nx.DiGraph,\n",
    "    node: Union[str, int],\n",
    ") -> bool:\n",
    "    \"\"\"Return `True` if the `node` in the river graph `rg`\n",
    "    is a headwater basin, otherwise `False`\n",
    "    \"\"\"\n",
    "    if not isinstance(rg, nx.DiGraph):\n",
    "        raise TypeError(\"`rg` must be of type networkx.DiGraph\")\n",
    "    \n",
    "    if rg.in_degree(node) == 0:\n",
    "        return True\n",
    "    else:\n",
    "        return False"
   ]
  },
  {
   "cell_type": "code",
   "execution_count": 10,
   "id": "ac55414c-6839-4b38-a32d-32a5ce33207b",
   "metadata": {},
   "outputs": [
    {
     "data": {
      "text/plain": [
       "[71027880]"
      ]
     },
     "execution_count": 10,
     "metadata": {},
     "output_type": "execute_result"
    }
   ],
   "source": [
    "list(rg.successors(n))"
   ]
  },
  {
   "cell_type": "code",
   "execution_count": 11,
   "id": "81cad679-0bbc-4a78-bb76-4784fb522661",
   "metadata": {},
   "outputs": [
    {
     "data": {
      "text/plain": [
       "[71027928, 71030573]"
      ]
     },
     "execution_count": 11,
     "metadata": {},
     "output_type": "execute_result"
    }
   ],
   "source": [
    "list(rg.predecessors(n))"
   ]
  },
  {
   "cell_type": "code",
   "execution_count": 12,
   "id": "389078ee-5e1f-44d2-a1c7-826725b57834",
   "metadata": {},
   "outputs": [
    {
     "data": {
      "text/plain": [
       "71027927"
      ]
     },
     "execution_count": 12,
     "metadata": {},
     "output_type": "execute_result"
    }
   ],
   "source": [
    "n"
   ]
  },
  {
   "cell_type": "code",
   "execution_count": 13,
   "id": "c911173c-8799-4cb7-a730-6834daa22590",
   "metadata": {},
   "outputs": [],
   "source": [
    "def _choose_seg_target(\n",
    "    rg: nx.DiGraph,\n",
    "    nodes: Iterable[Union[str, int]],\n",
    "    cols: Dict[str, str],\n",
    "    source_node: Union[str, int] = None,\n",
    "    criteria: str = None,\n",
    "    *args,\n",
    "    **kwargs,\n",
    ") -> Union[str, int]:\n",
    "    \"\"\"Returning the chosen target segment based on `criteria`\n",
    "    \n",
    "    Parameters\n",
    "    ----------\n",
    "    rg: networkx.DiGraph\n",
    "        a DiGraph of the river network of interest, `rg` must have\n",
    "        attributes (as Python dictionary) with keys that correspond\n",
    "        to the keys in `cols`\n",
    "    node: str or int\n",
    "        The node name of interest\n",
    "    source_node: str or int, optional\n",
    "        the source node where the target aggregation segment is being\n",
    "        selected for, if nothing provided, warning messages will be\n",
    "        vague\n",
    "    criteria: str, optional\n",
    "        The criterion for the aggregation method, currently available\n",
    "        methods are: `area` and `length`. If ``None`` is provided, an\n",
    "        upstream segment is selected randomly\n",
    "    cols: dict\n",
    "        Dictionary with keys that describes the ones in `rg`'s edge\n",
    "        attribute table. Any of following keys need to be provided in\n",
    "        the `cols`, depending on `criteria`:  \n",
    "          1. 'length'  \n",
    "          2. 'area'  \n",
    "    \n",
    "    Returns\n",
    "    -------\n",
    "    candidate_node: Union[str, int]\n",
    "        The candidate node of interest\n",
    "    \"\"\"\n",
    "    # check if the source_node is adjacent to any of `nodes` values\n",
    "    \n",
    "    \n",
    "    if len(nodes) > 1:\n",
    "        if criteria in ('length', 'area'):\n",
    "            # build a dictionary with node keys and criteria values\n",
    "            criteria_dict = {n: rg[n][source_node][cols[criteria]] \\\n",
    "                            for n in nodes}\n",
    "            # reporting the node with the minimum criteria value\n",
    "            candidate_node = min(criteria_dict, key=criteria_dict.get)\n",
    "\n",
    "        elif crtieria == None:\n",
    "            warn_message = (f\"Selecting upstream target node for aggregation\"\n",
    "                            \" is random, as `criteria` is not provided\")\n",
    "            warnings.warn(warn_message, UserWarning)\n",
    "            # the selection is not really random, it is just the first\n",
    "            # node in the Iterable object\n",
    "            candidate_node = nodes[0]\n",
    "            \n",
    "        else:\n",
    "            raise ValueError(\"`criteria` can only be `length`, `area` or None\")\n",
    "            \n",
    "    elif len(nodes) == 1:\n",
    "        warn_message = (f\"Only one upstream node for `{source_node}` is available \"\n",
    "                        f\"and selected as the target for aggregation: {nodes[0]}\")\n",
    "        warnings.warn(warn_message, UserWarning)\n",
    "        # the only node is the candidate\n",
    "        candidate_node = nodes[0]\n",
    "        \n",
    "    else: # `nodes` is an empty iterable\n",
    "        raise ValueError(\"The length of `nodes` cannot be empty\")\n",
    "        \n",
    "    return candidate_node"
   ]
  },
  {
   "cell_type": "code",
   "execution_count": 14,
   "id": "f506c90b-37dd-489e-98c8-b50076b54296",
   "metadata": {},
   "outputs": [
    {
     "name": "stderr",
     "output_type": "stream",
     "text": [
      "/tmp/ipykernel_9432/701564403.py:65: UserWarning: Only one upstream node for `71027927` is available and selected as the target for aggregation: 71030573\n",
      "  warnings.warn(warn_message, UserWarning)\n"
     ]
    }
   ],
   "source": [
    "# if length is provided, and all the upstream segments\n",
    "# are headwater ones, choose the one with the shorter\n",
    "# river length\n",
    "headwater_candidates = [node for node in rg.predecessors(n) if _is_headwater(rg, node)]\n",
    "if any(headwater_candidates):\n",
    "    candidate = _choose_seg_target(rg=rg,\n",
    "                                   nodes=headwater_candidates,\n",
    "                                   cols={'length': 'lengthkm'},\n",
    "                                   source_node=n,\n",
    "                                   criteria=criteria)\n",
    "else:\n",
    "    normal_candidates = [node for node in rg.predecessors(n)]\n",
    "    candidate = _choose_seg_target(rg,\n",
    "                                   normal_candidates,\n",
    "                                   n,\n",
    "                                   criteria = criteria)"
   ]
  },
  {
   "cell_type": "code",
   "execution_count": 15,
   "id": "354b0047-99ae-404f-99eb-ea8014267764",
   "metadata": {},
   "outputs": [
    {
     "data": {
      "text/plain": [
       "71027927"
      ]
     },
     "execution_count": 15,
     "metadata": {},
     "output_type": "execute_result"
    }
   ],
   "source": [
    "n"
   ]
  },
  {
   "cell_type": "code",
   "execution_count": 16,
   "id": "f7e7ba46-fe97-4f08-9890-6a6854ca2dd1",
   "metadata": {
    "tags": []
   },
   "outputs": [
    {
     "data": {
      "text/plain": [
       "71030573"
      ]
     },
     "execution_count": 16,
     "metadata": {},
     "output_type": "execute_result"
    }
   ],
   "source": [
    "candidate"
   ]
  },
  {
   "cell_type": "markdown",
   "id": "31ff3d23-001e-4888-99cf-33fcd1e3b222",
   "metadata": {},
   "source": [
    "Notes:  \n",
    "1. First aggregate attributes:  \n",
    "&ensp;1.1. `length` needs to be `sum`med,\n",
    "&ensp;1.2. `"
   ]
  },
  {
   "cell_type": "code",
   "execution_count": 17,
   "id": "7a82fd72-eece-4df3-96db-2f0d8211d27c",
   "metadata": {},
   "outputs": [],
   "source": [
    "rg2 = nx.contracted_nodes(G=rg,\n",
    "                          u=candidate,\n",
    "                          v=n,\n",
    "                          self_loops=False\n",
    "                         )"
   ]
  },
  {
   "cell_type": "code",
   "execution_count": 18,
   "id": "42b8510d-f19c-45f7-8c49-ce5310bc0358",
   "metadata": {},
   "outputs": [
    {
     "data": {
      "text/plain": [
       "{'COMID': 71030573,\n",
       " 'lengthkm': 1.325056645795759,\n",
       " 'lengthdir': 1.222643033274586,\n",
       " 'sinuosity': 1.083764115718126,\n",
       " 'slope': 0.000754684717195,\n",
       " 'uparea': 27.817919621783,\n",
       " 'order': 1,\n",
       " 'strmDrop_t': 0.0,\n",
       " 'slope_taud': 0.0,\n",
       " 'NextDownID': 71027927,\n",
       " 'maxup': 0,\n",
       " 'up1': 0,\n",
       " 'up2': 0,\n",
       " 'up3': 0,\n",
       " 'up4': 0,\n",
       " 'geometry': <LINESTRING (-91.427 51.074, -91.426 51.074, -91.425 51.075, -91.424 51.075,...>}"
      ]
     },
     "execution_count": 18,
     "metadata": {},
     "output_type": "execute_result"
    }
   ],
   "source": [
    "rg[candidate][n]"
   ]
  },
  {
   "cell_type": "code",
   "execution_count": 19,
   "id": "ad10bc70-185c-40e3-8868-64ff6dc35656",
   "metadata": {},
   "outputs": [
    {
     "ename": "NameError",
     "evalue": "name 'combined_coords' is not defined",
     "output_type": "error",
     "traceback": [
      "\u001b[0;31m---------------------------------------------------------------------------\u001b[0m",
      "\u001b[0;31mNameError\u001b[0m                                 Traceback (most recent call last)",
      "Cell \u001b[0;32mIn[19], line 5\u001b[0m\n\u001b[1;32m      3\u001b[0m \u001b[38;5;28;01mdef\u001b[39;00m \u001b[38;5;21m_merge_linstrings\u001b[39m(\u001b[38;5;241m*\u001b[39margs):\n\u001b[1;32m      4\u001b[0m     combined_coords \u001b[38;5;241m=\u001b[39m \u001b[38;5;28mlist\u001b[39m(linestring1\u001b[38;5;241m.\u001b[39mcoords) \u001b[38;5;241m+\u001b[39m \u001b[38;5;28mlist\u001b[39m(linestring2\u001b[38;5;241m.\u001b[39mcoords)[\u001b[38;5;241m1\u001b[39m:] \u001b[38;5;66;03m# Skip the first point of the second linestring to avoid duplication\u001b[39;00m\n\u001b[0;32m----> 5\u001b[0m longer_linestring \u001b[38;5;241m=\u001b[39m LineString(\u001b[43mcombined_coords\u001b[49m)\n\u001b[1;32m      7\u001b[0m \u001b[38;5;66;03m# Optionally, create a GeoDataFrame to hold the longer linestring\u001b[39;00m\n\u001b[1;32m      8\u001b[0m gdf \u001b[38;5;241m=\u001b[39m gpd\u001b[38;5;241m.\u001b[39mGeoDataFrame(geometry\u001b[38;5;241m=\u001b[39m[longer_linestring])\n",
      "\u001b[0;31mNameError\u001b[0m: name 'combined_coords' is not defined"
     ]
    }
   ],
   "source": [
    "# Combine the linestrings into a longer one\n",
    "# This approach directly connects the end of the first linestring to the start of the second\n",
    "def _merge_linstrings(*args):\n",
    "    combined_coords = list(linestring1.coords) + list(linestring2.coords)[1:] # Skip the first point of the second linestring to avoid duplication\n",
    "longer_linestring = LineString(combined_coords)\n",
    "\n",
    "# Optionally, create a GeoDataFrame to hold the longer linestring\n",
    "gdf = gpd.GeoDataFrame(geometry=[longer_linestring])"
   ]
  },
  {
   "cell_type": "code",
   "execution_count": null,
   "id": "c112abb1-a4fd-4d3a-82f3-ccb40007a011",
   "metadata": {},
   "outputs": [],
   "source": [
    "def _agg_length(*args):\n",
    "    "
   ]
  },
  {
   "cell_type": "code",
   "execution_count": null,
   "id": "014c2d1d-a79e-47b0-98d1-cffb5248f4c6",
   "metadata": {},
   "outputs": [],
   "source": [
    "gdf.iloc[0, 0]"
   ]
  },
  {
   "cell_type": "code",
   "execution_count": null,
   "id": "3e830612-9e4c-499b-8f06-52b7db5a9e81",
   "metadata": {},
   "outputs": [],
   "source": [
    "print(gdf.iloc[0, 0])"
   ]
  },
  {
   "cell_type": "code",
   "execution_count": null,
   "id": "8b3931af-0ce9-4de2-b2de-e1fa727a7aa8",
   "metadata": {},
   "outputs": [],
   "source": []
  },
  {
   "cell_type": "markdown",
   "id": "95838d99-2270-4dd3-ad0e-a803171efcf2",
   "metadata": {},
   "source": [
    "____"
   ]
  },
  {
   "cell_type": "markdown",
   "id": "09d5a31d-b867-4e11-8a26-fe98bcfed084",
   "metadata": {},
   "source": [
    "# splitting "
   ]
  },
  {
   "cell_type": "code",
   "execution_count": null,
   "id": "9e63dab8-bb49-471e-a52e-cc82b097ee8e",
   "metadata": {},
   "outputs": [],
   "source": [
    "poly = cat.loc[cat.COMID == 71047064].copy()\n",
    "poly.set_crs(epsg=4326, inplace=True)\n",
    "poly"
   ]
  },
  {
   "cell_type": "code",
   "execution_count": null,
   "id": "49c8b92f-e222-4c0b-8036-49cca44817ae",
   "metadata": {},
   "outputs": [],
   "source": [
    "line = riv.loc[riv.COMID == 71047064].copy()\n",
    "line.set_crs(epsg=4326, inplace=True)\n",
    "line"
   ]
  },
  {
   "cell_type": "code",
   "execution_count": null,
   "id": "33a68109-6651-47f6-9543-c7f0711f611c",
   "metadata": {},
   "outputs": [],
   "source": [
    "ax = poly.plot()\n",
    "line.plot(ax=ax, zorder=100, color='red')"
   ]
  },
  {
   "cell_type": "code",
   "execution_count": null,
   "id": "d39b16d2-f53a-411d-b4d2-22edd4cd25a2",
   "metadata": {},
   "outputs": [],
   "source": [
    "from shapely.ops import split\n",
    "\n",
    "d = split(poly.geometry.iloc[0], line.geometry.iloc[0])"
   ]
  },
  {
   "cell_type": "code",
   "execution_count": null,
   "id": "c46124a0-40ae-42f9-bb56-00eb1dad329e",
   "metadata": {},
   "outputs": [],
   "source": [
    "d"
   ]
  },
  {
   "cell_type": "code",
   "execution_count": null,
   "id": "34f15db5-ecac-41ae-b068-aa3ff0dcca52",
   "metadata": {},
   "outputs": [],
   "source": [
    "poly.overlay(line)"
   ]
  },
  {
   "cell_type": "code",
   "execution_count": null,
   "id": "b635b4eb-594e-4d3c-b516-950819511b8c",
   "metadata": {},
   "outputs": [],
   "source": [
    "line.geometry.iloc[0].intersects(poly.geometry.iloc[0])"
   ]
  },
  {
   "cell_type": "code",
   "execution_count": null,
   "id": "a6507c6f-5006-45f1-bb5c-a9be10628e6e",
   "metadata": {},
   "outputs": [],
   "source": [
    "g = line.geometry.iloc[0].intersection(poly.geometry.iloc[0])"
   ]
  },
  {
   "cell_type": "markdown",
   "id": "9f7ef336-8440-4802-a1e7-b792f96e69a0",
   "metadata": {},
   "source": [
    "_____"
   ]
  },
  {
   "cell_type": "code",
   "execution_count": null,
   "id": "dcc93098-d63f-47d4-9d7a-b8227d8a0c0c",
   "metadata": {},
   "outputs": [],
   "source": [
    "lines = riv.loc[riv.COMID.isin([72051873, 72053625])]"
   ]
  },
  {
   "cell_type": "code",
   "execution_count": null,
   "id": "4a3103b5-1641-499d-a87b-be1859297d3e",
   "metadata": {},
   "outputs": [],
   "source": [
    "lines"
   ]
  },
  {
   "cell_type": "code",
   "execution_count": null,
   "id": "864f1108-b33d-416c-adfa-3779e797d24a",
   "metadata": {},
   "outputs": [],
   "source": []
  }
 ],
 "metadata": {
  "kernelspec": {
   "display_name": "scienv",
   "language": "python",
   "name": "scienv"
  },
  "language_info": {
   "codemirror_mode": {
    "name": "ipython",
    "version": 3
   },
   "file_extension": ".py",
   "mimetype": "text/x-python",
   "name": "python",
   "nbconvert_exporter": "python",
   "pygments_lexer": "ipython3",
   "version": "3.10.2"
  }
 },
 "nbformat": 4,
 "nbformat_minor": 5
}
